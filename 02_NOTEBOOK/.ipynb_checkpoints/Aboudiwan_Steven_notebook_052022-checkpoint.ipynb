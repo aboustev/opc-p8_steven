{
 "cells": [
  {
   "cell_type": "code",
   "execution_count": 1,
   "id": "6cdd13dd",
   "metadata": {},
   "outputs": [],
   "source": [
    "import boto3\n",
    "import os\n",
    "import cv2\n",
    "import pandas as pd\n",
    "import numpy as np\n",
    "import matplotlib.pyplot as plt\n",
    "import pyspark\n",
    "import findspark\n",
    "from pyspark import SparkContext\n",
    "from pyspark.sql import SparkSession\n",
    "from pyspark.sql.functions import length\n",
    "from pyspark.ml.clustering import KMeans\n",
    "from pyspark.sql.functions import lit\n",
    "from pyspark.ml.feature import VectorAssembler\n",
    "from sklearn.cluster import MiniBatchKMeans\n",
    "from tensorflow.keras import datasets, layers, models\n",
    "from tensorflow.keras.applications.vgg16 import VGG16\n",
    "from tensorflow.keras.applications.vgg16 import preprocess_input\n",
    "from pyspark.ml.feature import PCA\n",
    "from pyspark.sql.functions import monotonically_increasing_id\n",
    "from pyspark import SparkConf\n",
    "from io import StringIO"
   ]
  },
  {
   "cell_type": "code",
   "execution_count": 2,
   "id": "8eeebb6c",
   "metadata": {},
   "outputs": [
    {
     "data": {
      "text/plain": [
       "'C:\\\\Users\\\\abou-\\\\AppData\\\\Local\\\\Programs\\\\Python\\\\Python37\\\\lib\\\\site-packages\\\\pyspark'"
      ]
     },
     "execution_count": 2,
     "metadata": {},
     "output_type": "execute_result"
    }
   ],
   "source": [
    "findspark.init()\n",
    "findspark.find()"
   ]
  },
  {
   "cell_type": "code",
   "execution_count": 3,
   "id": "abee0c48",
   "metadata": {},
   "outputs": [],
   "source": [
    "def param_s3():\n",
    "    bucket_name = 'opc-p8-data'\n",
    "    region = 'eu-west-3'\n",
    "    access_id = '' # fill in these keys\n",
    "    access_key = ''\n",
    "    s3 = boto3.resource(\n",
    "        service_name='s3',\n",
    "        region_name=region,\n",
    "        aws_access_key_id=access_id,\n",
    "        aws_secret_access_key=access_key\n",
    "    )\n",
    "    bucket_name = 'opc-p8-data'\n",
    "    os.environ[\"AWS_DEFAULT_REGION\"] = region\n",
    "    os.environ[\"AWS_ACCESS_KEY_ID\"] = access_id\n",
    "    os.environ[\"AWS_SECRET_ACCESS_KEY\"] = access_key\n",
    "    bucket = s3.Bucket(bucket_name)\n",
    "    s3_client = boto3.client('s3')\n",
    "    return bucket, s3_client, bucket_name"
   ]
  },
  {
   "cell_type": "code",
   "execution_count": 4,
   "id": "a6907d61",
   "metadata": {},
   "outputs": [],
   "source": [
    "conf = (SparkConf().set(\n",
    "    'spark.executor.extraJavaOptions',\n",
    "    '-Dcom.amazonaws.services.s3.enableV4=true').set(\n",
    "    'spark.driver.extraJavaOptions',\n",
    "    '-Dcom.amazonaws.services.s3.enableV4=true'))"
   ]
  },
  {
   "cell_type": "code",
   "execution_count": 5,
   "id": "403af0ab",
   "metadata": {},
   "outputs": [],
   "source": [
    "bucket_name = 'opc-p8-data'\n",
    "region = 'eu-west-3'\n",
    "access_id = '' # fill in these keys\n",
    "access_key = ''\n",
    "training_folder = 'fruits-360-original-size'\n",
    "output_folder = 'ML_FEATURES'"
   ]
  },
  {
   "cell_type": "code",
   "execution_count": 6,
   "id": "f13bb405",
   "metadata": {},
   "outputs": [],
   "source": [
    "bucket, s3_client, name_bckt = param_s3()\n",
    "sc = SparkContext(conf=conf)\n",
    "sc.setSystemProperty('com.amazonaws.services.s3.enableV4', 'true')"
   ]
  },
  {
   "cell_type": "code",
   "execution_count": 7,
   "id": "5377c3dd",
   "metadata": {},
   "outputs": [],
   "source": [
    "hadoopConf = sc._jsc.hadoopConfiguration()\n",
    "hadoopConf.set(\"fs.s3a.awsAccessKeyId\", access_id)\n",
    "hadoopConf.set(\"fs.s3a.awsSecretAccessKey\", access_key)\n",
    "hadoopConf.set(\"fs.s3a.endpoint\", \"s3.eu-west-3.amazonaws.com\")\n",
    "hadoopConf.set(\"com.amazonaws.services.s3a.enableV4\", \"true\")\n",
    "hadoopConf.set(\"fs.s3a.impl\", \"org.apache.hadoop.fs.s3a.S3AFileSystem\")\n",
    "hadoopConf.set('fs.s3a.aws.credentials.provider', 'org.apache.hadoop.fs.s3a.TemporaryAWSCredentialsProvider')"
   ]
  },
  {
   "cell_type": "code",
   "execution_count": 8,
   "id": "1f3538c0",
   "metadata": {},
   "outputs": [],
   "source": [
    "spark = SparkSession(sc)\n",
    "spark.conf.set(\"spark.sql.execution.arrow.enabled\", \"true\")\n",
    "sc.setLogLevel(\"ERROR\")"
   ]
  },
  {
   "cell_type": "code",
   "execution_count": 9,
   "id": "0482fe73",
   "metadata": {},
   "outputs": [],
   "source": [
    "def list_folders(s3_client, bucket_name, prefix=''):\n",
    "    response = s3_client.list_objects_v2(Bucket=bucket_name, Prefix=prefix, Delimiter='/')\n",
    "    for content in response.get('CommonPrefixes', []):\n",
    "        yield content.get('Prefix')"
   ]
  },
  {
   "cell_type": "code",
   "execution_count": 10,
   "id": "dd19c677",
   "metadata": {},
   "outputs": [],
   "source": [
    "training_set_folder = 'Training'\n",
    "testing_set_folder = 'Test'\n",
    "main_folder_name = 'fruits-360-original-size'"
   ]
  },
  {
   "cell_type": "code",
   "execution_count": 11,
   "id": "a6533fa8",
   "metadata": {},
   "outputs": [],
   "source": [
    "folder_list = list_folders(s3_client, name_bckt)\n",
    "fold = []\n",
    "for folder in folder_list:\n",
    "    fold += [folder]\n",
    "if len(fold) > 1 or len(fold) == 0:\n",
    "    folder = main_folder_name\n",
    "else:\n",
    "    folder = fold[0]"
   ]
  },
  {
   "cell_type": "code",
   "execution_count": 12,
   "id": "528dd409",
   "metadata": {},
   "outputs": [],
   "source": [
    "training_folder = folder + training_set_folder + '/'\n",
    "folder_list = list_folders(s3_client, name_bckt, prefix=training_folder)\n",
    "lst_all_folders = []\n",
    "for folder in folder_list:\n",
    "    lst_all_folders += [folder]"
   ]
  },
  {
   "cell_type": "code",
   "execution_count": 13,
   "id": "e3aac30b",
   "metadata": {},
   "outputs": [],
   "source": [
    "part_all_folders = lst_all_folders[:2]"
   ]
  },
  {
   "cell_type": "code",
   "execution_count": 14,
   "id": "f98c34a7",
   "metadata": {},
   "outputs": [],
   "source": [
    "def find_keypoints(image_path):\n",
    "    method = cv2.SIFT_create(500)\n",
    "    bckt, s3_client, bucket_name = param_s3()\n",
    "    obj = s3_client.get_object(Bucket=bucket_name, Key=image_path)\n",
    "    img = obj['Body'].read()\n",
    "    np_array = np.frombuffer(img, np.uint8)\n",
    "    image = cv2.imdecode(np_array, cv2.IMREAD_COLOR)\n",
    "    res = cv2.GaussianBlur(image, (1, 1), 0)\n",
    "    kp, des = method.detectAndCompute(res, None)\n",
    "    return des.tolist()"
   ]
  },
  {
   "cell_type": "code",
   "execution_count": 15,
   "id": "461699a8",
   "metadata": {},
   "outputs": [],
   "source": [
    "def create_image_features(image):\n",
    "    sift_keypoints = []\n",
    "    bckt, client, name = param_s3()\n",
    "    for folder in bckt.objects.filter(Prefix=image):\n",
    "        des = find_keypoints(folder.key)\n",
    "        sift_keypoints.append(des)\n",
    "    sift_keypoints_by_img = np.asarray(sift_keypoints, dtype=object)\n",
    "    sift_keypoints_all = np.concatenate(sift_keypoints_by_img, axis=0)\n",
    "\n",
    "    k = int(round(np.sqrt(len(sift_keypoints_all)),0))\n",
    "    kmeans = MiniBatchKMeans(n_clusters=k, init_size=3*k, random_state=0)\n",
    "    kmeans.fit(sift_keypoints_all)\n",
    "\n",
    "    hist_vectors=[]\n",
    "\n",
    "    for image_desc in sift_keypoints_by_img:\n",
    "        res = kmeans.predict(image_desc)\n",
    "        hist = np.zeros(k)\n",
    "        nb_des = len(image_desc)\n",
    "        for i in res:\n",
    "            hist[i] += 1.0 / nb_des\n",
    "        hist_vectors.append(hist)\n",
    "        \n",
    "    im_features = np.asarray(hist_vectors)\n",
    "    df_features = pd.DataFrame(im_features)\n",
    "    \n",
    "    fruitname = image.split('/')[-2]\n",
    "    df_features.columns = [fruitname + '_col' + str(col) for col in df_features.columns]\n",
    "    df_features['fruit_name'] = fruitname\n",
    "    return df_features"
   ]
  },
  {
   "cell_type": "code",
   "execution_count": 16,
   "id": "46a935f3",
   "metadata": {},
   "outputs": [],
   "source": [
    "def load_images(path):\n",
    "    bckt, s3_client, bucket_name = param_s3()\n",
    "    method = cv2.SIFT_create(500)\n",
    "    obj = s3_client.get_object(Bucket=bucket_name, Key=path)\n",
    "    imgbytes = obj['Body'].read()\n",
    "    nparr = np.frombuffer(imgbytes, np.uint8)\n",
    "    img = cv2.imdecode(nparr, 1)\n",
    "\n",
    "    sift = cv2.SIFT_create()\n",
    "\n",
    "    kp, descriptors = sift.detectAndCompute(img, None)\n",
    "\n",
    "    return (imgfilename, descriptors)"
   ]
  },
  {
   "cell_type": "code",
   "execution_count": 17,
   "id": "a95404f6",
   "metadata": {},
   "outputs": [],
   "source": [
    "def find_images(path):\n",
    "    list_files = []\n",
    "    bckt, s3_client, bucket_name = param_s3()\n",
    "    for folder in bckt.objects.filter(Prefix=path):\n",
    "        list_files += [folder.key]\n",
    "    return list_files"
   ]
  },
  {
   "cell_type": "code",
   "execution_count": 18,
   "id": "63f64870",
   "metadata": {},
   "outputs": [],
   "source": [
    "def read_and_preprocess_img(path, target_size):\n",
    "    bckt, s3_client, bucket_name = param_s3()\n",
    "    obj = s3_client.get_object(Bucket=bucket_name, Key=path)\n",
    "    img = obj['Body'].read()\n",
    "    np_array = np.frombuffer(img, np.uint8)\n",
    "    image = cv2.imdecode(np_array, cv2.IMREAD_COLOR)\n",
    "    res = cv2.GaussianBlur(image, (1, 1), 0)\n",
    "    resized = cv2.resize(res, target_size, interpolation = cv2.INTER_AREA)\n",
    "    \n",
    "    return resized"
   ]
  },
  {
   "cell_type": "code",
   "execution_count": 19,
   "id": "bef3867d",
   "metadata": {},
   "outputs": [],
   "source": [
    "para = sc.parallelize(lst_all_folders)\n",
    "all_imgs = para.map(find_images).reduce(lambda a, b: a + b)"
   ]
  },
  {
   "cell_type": "code",
   "execution_count": 20,
   "id": "ca8d97ed",
   "metadata": {},
   "outputs": [
    {
     "name": "stdout",
     "output_type": "stream",
     "text": [
      "Batch 0\n",
      "Batch 1\n",
      "Batch 2\n",
      "Batch 3\n",
      "Batch 4\n",
      "Batch 5\n",
      "Batch 6\n",
      "Batch 7\n",
      "Batch 8\n",
      "Batch 9\n",
      "Batch 10\n",
      "Batch 11\n",
      "Batch 12\n"
     ]
    }
   ],
   "source": [
    "n_batch = 500\n",
    "min_idx = 0\n",
    "max_idx = len(all_imgs)\n",
    "idx = 0\n",
    "all_img_in_folder = []\n",
    "nb = 0\n",
    "while idx < max_idx:\n",
    "    print(f'Batch {nb}')\n",
    "    if idx+n_batch < max_idx:\n",
    "        para = sc.parallelize(all_imgs[idx:idx+n_batch])\n",
    "    else:\n",
    "        para = sc.parallelize(all_imgs[idx:max_idx])\n",
    "    all_img_in_batch = para.map(lambda x: read_and_preprocess_img(x, (224, 224))).collect()\n",
    "    all_img_in_folder += all_img_in_batch\n",
    "    idx += n_batch\n",
    "    nb += 1"
   ]
  },
  {
   "cell_type": "code",
   "execution_count": 21,
   "id": "b93e8ba4",
   "metadata": {},
   "outputs": [],
   "source": [
    "para = sc.parallelize(all_imgs)\n",
    "all_imgs_names = para.map(lambda x: [x.split('/')[-2]]).reduce(lambda a, b: a + b)"
   ]
  },
  {
   "cell_type": "code",
   "execution_count": 22,
   "id": "704dee82",
   "metadata": {},
   "outputs": [
    {
     "name": "stdout",
     "output_type": "stream",
     "text": [
      "7/7 [==============================] - 30s 4s/step\n"
     ]
    }
   ],
   "source": [
    "model = VGG16()\n",
    "\n",
    "nb_samples = 200\n",
    "img_names = spark.createDataFrame(\n",
    "    np.array([all_imgs_names[:nb_samples]]).T.tolist(),\n",
    "    ['fruitname']\n",
    ")\n",
    "x = np.asarray(all_img_in_folder[:nb_samples])\n",
    "\n",
    "preprocessed_img = preprocess_input(x)\n",
    "\n",
    "result = model.predict(preprocessed_img)"
   ]
  },
  {
   "cell_type": "code",
   "execution_count": 23,
   "id": "a1933428",
   "metadata": {},
   "outputs": [],
   "source": [
    "spk_df_features = spark.createDataFrame(result.tolist())\n",
    "assembler = VectorAssembler(inputCols=spk_df_features.columns, outputCol='features')\n",
    "spk_df_features = assembler.transform(spk_df_features)"
   ]
  },
  {
   "cell_type": "code",
   "execution_count": 24,
   "id": "dba96b41",
   "metadata": {},
   "outputs": [],
   "source": [
    "final_nb_features = 0\n",
    "k_val = 400\n",
    "while final_nb_features == 0:\n",
    "    pca = PCA(k=k_val, inputCol=\"features\")\n",
    "\n",
    "    model_pca = pca.fit(spk_df_features)\n",
    "\n",
    "    model_pca.setOutputCol(\"output\")\n",
    "    cumsum_arr = model_pca.explainedVariance.cumsum()\n",
    "    ideal_nb_features = np.argmax(cumsum_arr > 0.9)\n",
    "    if ideal_nb_features > 0:\n",
    "        final_nb_features = ideal_nb_features\n",
    "    k_val += 100"
   ]
  },
  {
   "cell_type": "code",
   "execution_count": 25,
   "id": "3e99f762",
   "metadata": {},
   "outputs": [
    {
     "data": {
      "image/png": "[encoded data removed]",
      "text/plain": [
       "<Figure size 432x288 with 1 Axes>"
      ]
     },
     "metadata": {
      "needs_background": "light"
     },
     "output_type": "display_data"
    }
   ],
   "source": [
    "plt.title(f'Cumulative sum for k = {k_val}')\n",
    "plt.plot(cumsum_arr)\n",
    "plt.axhline(0.9, c = 'red')\n",
    "plt.show()"
   ]
  },
  {
   "cell_type": "code",
   "execution_count": 26,
   "id": "0fa0dd10",
   "metadata": {},
   "outputs": [],
   "source": [
    "pca = PCA(k=final_nb_features, inputCol=\"features\")\n",
    "\n",
    "model_pca = pca.fit(spk_df_features)\n",
    "\n",
    "model_pca.setOutputCol(\"output\")\n",
    "spk_df_features_out = spark.createDataFrame(model_pca.transform(spk_df_features).collect())\n",
    "\n",
    "output_data = spk_df_features_out.select('output').collect()"
   ]
  },
  {
   "cell_type": "code",
   "execution_count": 27,
   "id": "f14aea29",
   "metadata": {},
   "outputs": [
    {
     "name": "stdout",
     "output_type": "stream",
     "text": [
      "+-------------------+--------------------+\n",
      "|                 _1|                  _2|\n",
      "+-------------------+--------------------+\n",
      "| 0.2712079655460681| 0.11089167527612875|\n",
      "| 0.8633198596651188|-0.00836291201655...|\n",
      "|0.41939588507468145| 0.12113864481028311|\n",
      "| 0.5506994683119705| 0.05156184454103997|\n",
      "|0.46330363364566074| 0.11134709824916844|\n",
      "|  0.678842690987928|0.038204261998730456|\n",
      "| 0.4578430916193115|0.051043486563445865|\n",
      "|  0.558754531250943| 0.06657852095985956|\n",
      "|  0.626764423067175|0.048238049720711294|\n",
      "| 0.8640123978786977|-0.00980955494042...|\n",
      "| 0.8480606847384369|-0.00673361048605...|\n",
      "|  0.879419894677493|-0.00719627233291...|\n",
      "| 0.6820086602998622|0.031708453040613344|\n",
      "| 0.7457069400212015| 0.07461890699610622|\n",
      "| 0.8829253994812436|0.001295983102149...|\n",
      "|  0.716698382234023| 0.07188798417188008|\n",
      "| 0.7607040844984319|0.021215151771594627|\n",
      "| 0.5616419781098952|  0.1357302785203329|\n",
      "| 0.2990849377603018|   0.389696457051406|\n",
      "|0.33258750722045627|  0.3355750203649695|\n",
      "+-------------------+--------------------+\n",
      "only showing top 20 rows\n",
      "\n"
     ]
    }
   ],
   "source": [
    "rdd = sc.parallelize(output_data)\n",
    "final_df = rdd.map(lambda x: x.output.toArray().tolist()).collect()\n",
    "\n",
    "output_dataframe = spark.createDataFrame(final_df)\n",
    "\n",
    "output_dataframe.show()"
   ]
  },
  {
   "cell_type": "code",
   "execution_count": 28,
   "id": "eb75612e",
   "metadata": {},
   "outputs": [],
   "source": [
    "output_dataframe = output_dataframe.withColumn(\"id1\", monotonically_increasing_id())\n",
    "img_names = img_names.withColumn(\"id2\", monotonically_increasing_id())\n",
    "\n",
    "final_out_df = output_dataframe.join(img_names, output_dataframe.id1 == img_names.id2).drop(\"id1\", \"id2\")"
   ]
  },
  {
   "cell_type": "code",
   "execution_count": 29,
   "id": "ec749ef6",
   "metadata": {},
   "outputs": [],
   "source": [
    "path_to_csv = f'{main_folder_name}/{output_folder}/ml_output.csv'"
   ]
  },
  {
   "cell_type": "code",
   "execution_count": 30,
   "id": "f6a79bcd",
   "metadata": {},
   "outputs": [
    {
     "data": {
      "text/plain": [
       "'fruits-360-original-size/ML_FEATURES/ml_output.csv'"
      ]
     },
     "execution_count": 30,
     "metadata": {},
     "output_type": "execute_result"
    }
   ],
   "source": [
    "path_to_csv"
   ]
  },
  {
   "cell_type": "code",
   "execution_count": 31,
   "id": "77ec613a",
   "metadata": {},
   "outputs": [],
   "source": [
    "csv_buffer = StringIO()\n",
    "pd_df_out = final_out_df.toPandas()\n",
    "pd_df_out.to_csv(csv_buffer)"
   ]
  },
  {
   "cell_type": "code",
   "execution_count": 32,
   "id": "642d617e",
   "metadata": {
    "scrolled": true
   },
   "outputs": [
    {
     "data": {
      "text/plain": [
       "{'ResponseMetadata': {'RequestId': '8EZ2WY1YH0V9WKCH',\n",
       "  'HostId': 'iEJwt+imz75mhcPGcB1CCHz5QQ1Ks9iVyO8dlguJHndBJeNkEiqEpACGiIrS6GzJ5VLRtRogTH0=',\n",
       "  'HTTPStatusCode': 200,\n",
       "  'HTTPHeaders': {'x-amz-id-2': 'iEJwt+imz75mhcPGcB1CCHz5QQ1Ks9iVyO8dlguJHndBJeNkEiqEpACGiIrS6GzJ5VLRtRogTH0=',\n",
       "   'x-amz-request-id': '8EZ2WY1YH0V9WKCH',\n",
       "   'date': 'Fri, 27 May 2022 10:28:54 GMT',\n",
       "   'x-amz-server-side-encryption': 'AES256',\n",
       "   'etag': '\"ccd0ecdaba631e7cf9bafe4e1592eccb\"',\n",
       "   'server': 'AmazonS3',\n",
       "   'content-length': '0'},\n",
       "  'RetryAttempts': 0},\n",
       " 'ETag': '\"ccd0ecdaba631e7cf9bafe4e1592eccb\"',\n",
       " 'ServerSideEncryption': 'AES256'}"
      ]
     },
     "execution_count": 32,
     "metadata": {},
     "output_type": "execute_result"
    }
   ],
   "source": [
    "bucket.Object(path_to_csv).put(Body=csv_buffer.getvalue())"
   ]
  },
  {
   "cell_type": "code",
   "execution_count": null,
   "id": "a76d1a4f",
   "metadata": {},
   "outputs": [],
   "source": []
  }
 ],
 "metadata": {
  "kernelspec": {
   "display_name": "Python 3 (ipykernel)",
   "language": "python",
   "name": "python3"
  },
  "language_info": {
   "codemirror_mode": {
    "name": "ipython",
    "version": 3
   },
   "file_extension": ".py",
   "mimetype": "text/x-python",
   "name": "python",
   "nbconvert_exporter": "python",
   "pygments_lexer": "ipython3",
   "version": "3.7.7"
  }
 },
 "nbformat": 4,
 "nbformat_minor": 5
}
